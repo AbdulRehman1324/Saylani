{
 "cells": [
  {
   "cell_type": "markdown",
   "metadata": {},
   "source": [
    "# Question no 1"
   ]
  },
  {
   "cell_type": "code",
   "execution_count": 1,
   "metadata": {},
   "outputs": [
    {
     "name": "stdout",
     "output_type": "stream",
     "text": [
      "Name:Muhammad Waleed Khan\n",
      "Father Name:Nadir Shah Khan\n",
      "Class:12th\n",
      "Section:E\n",
      "Faculty:Pre-Engineering\n",
      "Roll No:807614\n",
      "Subjects\n",
      "English:70\n",
      "Mathematics:96\n",
      "Urdu:65\n",
      "Computer:80\n",
      "Islamiat:67\n",
      "Marks:\n",
      "Total Marks: 500\n",
      "Obtained Marks: 378\n",
      "75.6\n",
      "B\n",
      "            MARKSHEET\n",
      "Name           :    Muhammad Waleed Khan\n",
      "Father Name    :    Nadir Shah Khan\n",
      "Class          :    12th\n",
      "Section        :    E\n",
      "Faculty        :    Pre-Engineering\n",
      "Roll No.       :    807614\n",
      "Total Marks    :    500\n",
      "Obtained Marks :    378\n",
      "Grade          :    B\n"
     ]
    }
   ],
   "source": [
    "Name = input(\"Name:\")\n",
    "Father = input(\"Father Name:\")\n",
    "Class = input(\"Class:\")\n",
    "Section = input(\"Section:\")\n",
    "Faculty = input(\"Faculty:\")\n",
    "Roll_No = input(\"Roll No:\")\n",
    "\n",
    "Sub = \"Subjects\"\n",
    "print(Sub)\n",
    "\n",
    "E = int(input(\"English:\"))\n",
    "M = int(input(\"Mathematics:\"))\n",
    "U = int(input(\"Urdu:\"))\n",
    "C = int(input(\"Computer:\"))\n",
    "I= int(input(\"Islamiat:\"))\n",
    "\n",
    "Marks = \"Marks:\"\n",
    "print(Marks)\n",
    "\n",
    "T_M = \"Total Marks:\"\n",
    "\n",
    "Total_Marks = \"500\"\n",
    "print(T_M,Total_Marks)\n",
    "\n",
    "O_M = \"Obtained Marks:\"\n",
    "\n",
    "Obtained_Marks = E + M + U + C + I\n",
    "print(O_M,Obtained_Marks)\n",
    "\n",
    "Percentage = (E + M + U + C + I)*100 /500\n",
    "print(Percentage)\n",
    "\n",
    "Grade = \"\"\n",
    "if Percentage >= 90 and Percentage <= 100:\n",
    "    Grade = \"A+\"\n",
    "    \n",
    "elif Percentage >= 80 and Percentage <= 90:\n",
    "    Grade = \"A\"\n",
    "\n",
    "elif Percentage >= 70 and Percentage <= 80:\n",
    "    Grade = \"B\"\n",
    "    \n",
    "elif Percentage >= 60 and Percentage <= 70:\n",
    "    Grade = \"C\"\n",
    "\n",
    "else:\n",
    "    Grade = \"F\"\n",
    "    \n",
    "print(Grade)\n",
    "\n",
    "print(\"            MARKSHEET\")\n",
    "\n",
    "print(\"Name           :   \", Name)\n",
    "print(\"Father Name    :   \", Father)\n",
    "print(\"Class          :   \", Class)\n",
    "print(\"Section        :   \", Section)\n",
    "print(\"Faculty        :   \", Faculty)\n",
    "print(\"Roll No.       :   \", Roll_No)\n",
    "print(\"Total Marks    :   \", Total_Marks)\n",
    "print(\"Obtained Marks :   \", Obtained_Marks)\n",
    "print(\"Grade          :   \", Grade)"
   ]
  },
  {
   "cell_type": "markdown",
   "metadata": {},
   "source": [
    "# Question no 2"
   ]
  },
  {
   "cell_type": "code",
   "execution_count": 3,
   "metadata": {},
   "outputs": [
    {
     "name": "stdout",
     "output_type": "stream",
     "text": [
      "Enter the Number:5\n",
      "The Number '5' is Odd\n"
     ]
    }
   ],
   "source": [
    "num = int(input(\"Enter the Number:\"))\n",
    "if (num%2==0):\n",
    "    print(\"The Number {} is Even\".format(num))\n",
    "else:\n",
    "    print(\"The Number '{}' is Odd\".format(num))"
   ]
  },
  {
   "cell_type": "markdown",
   "metadata": {},
   "source": [
    "# Question no 3"
   ]
  },
  {
   "cell_type": "code",
   "execution_count": 2,
   "metadata": {},
   "outputs": [
    {
     "name": "stdout",
     "output_type": "stream",
     "text": [
      "The length of list is: 4\n",
      "-----------\n",
      "OR\n",
      "-----------\n",
      "The length of list is: 8\n"
     ]
    }
   ],
   "source": [
    "a = [] \n",
    "a.append(\"Waleed\") \n",
    "a.append(\"Huzaifa\") \n",
    "a.append(\"Daniyal\") \n",
    "a.append(\"Abu Bakar\") \n",
    "print(\"The length of list is: {}\".format(len(a)))\n",
    "\n",
    "print(\"-----------\")\n",
    "print(\"OR\")\n",
    "print(\"-----------\")\n",
    "\n",
    "s=[1,3,5,7,8,9,12,15]\n",
    "print(\"The length of list is: {}\".format(len(s)))"
   ]
  },
  {
   "cell_type": "markdown",
   "metadata": {},
   "source": [
    "# Question no 4"
   ]
  },
  {
   "cell_type": "code",
   "execution_count": 3,
   "metadata": {},
   "outputs": [
    {
     "name": "stdout",
     "output_type": "stream",
     "text": [
      "How many numbers: 6\n",
      "Enter number 11\n",
      "Enter number 12\n",
      "Enter number 13\n",
      "Enter number 14\n",
      "Enter number 15\n",
      "Enter number 16\n",
      "Sum of all elements in given list:  81\n"
     ]
    }
   ],
   "source": [
    "lst = []\n",
    "num = int(input('How many numbers: '))\n",
    "for n in range(num):\n",
    "    numbers = int(input('Enter number '))\n",
    "    lst.append(numbers)\n",
    "\n",
    "total=0\n",
    "for ele in range(0, len(lst)): \n",
    "    total = total + lst[ele] \n",
    "\n",
    "print(\"Sum of all elements in given list: \", total)"
   ]
  },
  {
   "cell_type": "markdown",
   "metadata": {},
   "source": [
    "# Question no 5"
   ]
  },
  {
   "cell_type": "code",
   "execution_count": 13,
   "metadata": {},
   "outputs": [
    {
     "name": "stdout",
     "output_type": "stream",
     "text": [
      "Enter number of elements in list: 5\n",
      "Enter elements: 13\n",
      "Enter elements: 2\n",
      "Enter elements: 15\n",
      "Enter elements: 4\n",
      "Enter elements: 3\n",
      "Largest number of the List is 15\n"
     ]
    }
   ],
   "source": [
    "list1 = [] \n",
    "num = int(input(\"Enter number of elements in list: \")) \n",
    " \n",
    "for i in range(1, num + 1): \n",
    "    ele = int(input(\"Enter elements: \")) \n",
    "    list1.append(ele)\n",
    "\n",
    "list1.sort()\n",
    "\n",
    "print(\"Largest number of the List is {}\".format(list1[-1]))"
   ]
  },
  {
   "cell_type": "markdown",
   "metadata": {},
   "source": [
    "# Question no 6"
   ]
  },
  {
   "cell_type": "code",
   "execution_count": 17,
   "metadata": {},
   "outputs": [
    {
     "name": "stdout",
     "output_type": "stream",
     "text": [
      "[1, 1, 2, 3]\n"
     ]
    }
   ],
   "source": [
    "a = [1, 1, 2, 3, 5, 8, 13, 21, 34, 55, 89]\n",
    "w=[]\n",
    "for i in range(0, len(a)):\n",
    "    if (a[i]<5):\n",
    "        w.append(a[i])\n",
    "        \n",
    "print(w)"
   ]
  },
  {
   "cell_type": "code",
   "execution_count": null,
   "metadata": {},
   "outputs": [],
   "source": []
  }
 ],
 "metadata": {
  "kernelspec": {
   "display_name": "Python 3",
   "language": "python",
   "name": "python3"
  },
  "language_info": {
   "codemirror_mode": {
    "name": "ipython",
    "version": 3
   },
   "file_extension": ".py",
   "mimetype": "text/x-python",
   "name": "python",
   "nbconvert_exporter": "python",
   "pygments_lexer": "ipython3",
   "version": "3.7.3"
  }
 },
 "nbformat": 4,
 "nbformat_minor": 2
}
