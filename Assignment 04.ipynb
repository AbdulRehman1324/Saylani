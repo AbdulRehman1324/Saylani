{
 "cells": [
  {
   "cell_type": "markdown",
   "metadata": {},
   "source": [
    "# Question no 1"
   ]
  },
  {
   "cell_type": "code",
   "execution_count": 1,
   "metadata": {},
   "outputs": [
    {
     "name": "stdout",
     "output_type": "stream",
     "text": [
      "Information:-\n",
      "first_name : M Waleed\n",
      "last_name : Khan\n",
      "Age : 20\n",
      "city : Karachi\n",
      "\n",
      "\n",
      "After Updating Qualification:-\n",
      "first_name : M Waleed\n",
      "last_name : Khan\n",
      "Age : 20\n",
      "city : Karachi\n",
      "qualifications : Bachelor's in Computer Science\n",
      "\n",
      "After Removing Qualifications:-\n",
      "first_name : M Waleed\n",
      "last_name : Khan\n",
      "Age : 20\n",
      "city : Karachi\n"
     ]
    }
   ],
   "source": [
    "info = {\n",
    "    \"first_name\" : \"M Waleed\",\n",
    "    \"last_name\" : \"Khan\",\n",
    "    \"Age\" : 20,\n",
    "    \"city\" : \"Karachi\"\n",
    "}\n",
    "\n",
    "print(\"Information:-\")\n",
    "for key, value in info.items():\n",
    "    print(key,\":\" ,value)\n",
    "    \n",
    "info[\"qualifications\"] = \"Bachelor's in Computer Science\"\n",
    "\n",
    "print(\"\\n\")\n",
    "print(\"After Updating Qualification:-\")\n",
    "for key, value in info.items():\n",
    "    print(key,\":\" ,value)\n",
    "    \n",
    "info.pop(\"qualifications\")\n",
    "\n",
    "print(\"\\nAfter Removing Qualifications:-\")\n",
    "for key, value in info.items():\n",
    "    print(key,\":\" ,value)"
   ]
  },
  {
   "cell_type": "markdown",
   "metadata": {},
   "source": [
    "# Question no 2"
   ]
  },
  {
   "cell_type": "code",
   "execution_count": 2,
   "metadata": {},
   "outputs": [
    {
     "name": "stdout",
     "output_type": "stream",
     "text": [
      "Karachi : {'Country': 'Pakistan', 'Population': 15741000, 'Fact': 'Karachi, The City of Lights'}\n",
      "Lahore : {'Country': 'Pakistan', 'Population': 12188000, 'Fact': 'City of warmhearted people'}\n",
      "Islamabad : {'Country': 'Pakistan', 'Population': 1095064, 'Fact': 'one of the most Beautiful city of Pakistan'}\n"
     ]
    }
   ],
   "source": [
    "karachi = {\n",
    "    \"Country\" : \"Pakistan\",\n",
    "    \"Population\" : 15741000,\n",
    "    \"Fact\" : \"Karachi, The City of Lights\",\n",
    "}\n",
    "\n",
    "lahore = {\n",
    "    \"Country\" : \"Pakistan\",\n",
    "    \"Population\" : 12188000,\n",
    "    \"Fact\" : \"City of warmhearted people\",\n",
    "}\n",
    "\n",
    "islamabad = {\n",
    "    \"Country\" : \"Pakistan\",\n",
    "    \"Population\" : 1095064,\n",
    "    \"Fact\" : \"one of the most Beautiful city of Pakistan\",\n",
    "}\n",
    "\n",
    "cities = {\n",
    "    \"Karachi\" : karachi,\n",
    "    \"Lahore\" : lahore,\n",
    "    \"Islamabad\" : islamabad,\n",
    "}\n",
    "\n",
    "#for key, value in cities.items():\n",
    "#    print(key,\":\" ,value)\n",
    "    \n",
    "for keys, values in cities.items():\n",
    "    print(keys, \":\" ,values)"
   ]
  },
  {
   "cell_type": "markdown",
   "metadata": {},
   "source": [
    "# Question no 3"
   ]
  },
  {
   "cell_type": "code",
   "execution_count": 3,
   "metadata": {},
   "outputs": [
    {
     "name": "stdout",
     "output_type": "stream",
     "text": [
      "What is your age:15\n",
      "Cost of Movie ticket for you is 15$\n"
     ]
    }
   ],
   "source": [
    "age=int(input(\"What is your age:\"))\n",
    "if (age<3):\n",
    "    print(\"Cost of Ticket for you is Free...!\")\n",
    "elif (age>=3 and age<=12):\n",
    "    print(\"Cost of Movie ticket for you is 10$\")\n",
    "elif (age>12):\n",
    "    print(\"Cost of Movie ticket for you is 15$\")"
   ]
  },
  {
   "cell_type": "markdown",
   "metadata": {},
   "source": [
    "# Question no 4"
   ]
  },
  {
   "cell_type": "code",
   "execution_count": 4,
   "metadata": {},
   "outputs": [
    {
     "name": "stdout",
     "output_type": "stream",
     "text": [
      "Enter your Book Title:Alice\n",
      "One of my favorite books is Alice in Wonderland.\n"
     ]
    }
   ],
   "source": [
    "def favorite_book(title):\n",
    "    print(\"One of my favorite books is {} in Wonderland.\".format(title))\n",
    "    \n",
    "book_title = input(\"Enter your Book Title:\")\n",
    "favorite_book(book_title)"
   ]
  },
  {
   "cell_type": "markdown",
   "metadata": {},
   "source": [
    "# Question no 5"
   ]
  },
  {
   "cell_type": "code",
   "execution_count": 9,
   "metadata": {},
   "outputs": [
    {
     "name": "stdout",
     "output_type": "stream",
     "text": [
      "Enter the Number to guess Between 1-30:\n",
      "8\n",
      "Your Choice is Bit low...!\n",
      "Enter the number Again:\n",
      "13\n",
      "Your Choice is Bit low...!\n",
      "Enter the number Again:\n",
      "1\n",
      "Your Choice is Bit low...!\n",
      "You lose\n"
     ]
    }
   ],
   "source": [
    "import random\n",
    "winning_number = random.randint(1,30)\n",
    "guess = 1\n",
    "number = int(input(\"Enter the Number to guess Between 1-30:\\n\"))\n",
    "while (guess<=3):\n",
    "    if number==winning_number:\n",
    "        print(\"You Win...!\")\n",
    "    else:\n",
    "        if number > winning_number:\n",
    "            print(\"your Choice is Bit far...!\")\n",
    "        else:\n",
    "            print(\"Your Choice is Bit low...!\")\n",
    "        guess += 1\n",
    "        if guess <= 3:\n",
    "            number = int(input(\"Enter the number Again:\\n\"))\n",
    "        \n",
    "    if guess>3:\n",
    "        print(\"You lose\")"
   ]
  },
  {
   "cell_type": "code",
   "execution_count": null,
   "metadata": {},
   "outputs": [],
   "source": []
  }
 ],
 "metadata": {
  "kernelspec": {
   "display_name": "Python 3",
   "language": "python",
   "name": "python3"
  },
  "language_info": {
   "codemirror_mode": {
    "name": "ipython",
    "version": 3
   },
   "file_extension": ".py",
   "mimetype": "text/x-python",
   "name": "python",
   "nbconvert_exporter": "python",
   "pygments_lexer": "ipython3",
   "version": "3.7.3"
  }
 },
 "nbformat": 4,
 "nbformat_minor": 2
}
