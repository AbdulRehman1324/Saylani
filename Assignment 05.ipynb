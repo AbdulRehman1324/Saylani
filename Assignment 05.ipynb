{
 "cells": [
  {
   "cell_type": "markdown",
   "metadata": {},
   "source": [
    "# Question no 1 "
   ]
  },
  {
   "cell_type": "code",
   "execution_count": 9,
   "metadata": {},
   "outputs": [
    {
     "name": "stdout",
     "output_type": "stream",
     "text": [
      "Enter the Number you wanna Factorial:6\n",
      "Factorial is :720\n"
     ]
    }
   ],
   "source": [
    "def factorial(num):\n",
    "    fact = 1\n",
    "    for i in range(num):\n",
    "        itr = i + 1;\n",
    "        fact = fact * itr\n",
    "    return fact\n",
    "\n",
    "number = int(input(\"Enter the Number you wanna Factorial:\"))\n",
    "print(\"Factorial is :{}\".format(factorial(number)))"
   ]
  },
  {
   "cell_type": "markdown",
   "metadata": {},
   "source": [
    "# Question no 2"
   ]
  },
  {
   "cell_type": "code",
   "execution_count": 24,
   "metadata": {},
   "outputs": [
    {
     "name": "stdout",
     "output_type": "stream",
     "text": [
      "Enter name/String/Sentence:My Name is Muhammad Waleed Khan\n",
      "Total Number of Upper case: 5\n",
      "Total Number of Lower case: 21\n",
      "Total Number of Space: 5\n"
     ]
    }
   ],
   "source": [
    "def Str_value(name):\n",
    "    upperCase = 0\n",
    "    lowerCase = 0\n",
    "    space = 0\n",
    "    for i in range(len(name)):\n",
    "        if (name[i].isupper()):\n",
    "            upperCase += 1\n",
    "        elif (name[i].islower()):\n",
    "            lowerCase += 1\n",
    "        elif (name[i] == \" \"):\n",
    "            space += 1\n",
    "    print(\"Total Number of Upper case: {}\".format(upperCase))\n",
    "    print(\"Total Number of Lower case: {}\".format(lowerCase))\n",
    "    print(\"Total Number of Space: {}\".format(space))\n",
    "\n",
    "Name = input(\"Enter name/String/Sentence:\")\n",
    "Str_value(Name)"
   ]
  },
  {
   "cell_type": "markdown",
   "metadata": {},
   "source": [
    "# Question no 3"
   ]
  },
  {
   "cell_type": "code",
   "execution_count": 13,
   "metadata": {},
   "outputs": [
    {
     "name": "stdout",
     "output_type": "stream",
     "text": [
      "Even Number List: [2, 4, 6, 8, 10, 12, 14]\n"
     ]
    }
   ],
   "source": [
    "def showEven(num):\n",
    "    newList = []\n",
    "    for i in range(len(num)):\n",
    "        if(num[i] % 2 == 0):\n",
    "            newList.append(num[i])\n",
    "    print(\"Even Number List: {}\".format(newList))\n",
    "    \n",
    "\n",
    "numbers = [1,2,3,4,5,6,7,8,9,10,11,12,13,14,15]    \n",
    "showEven(numbers)"
   ]
  },
  {
   "cell_type": "markdown",
   "metadata": {},
   "source": [
    "# Question no 4"
   ]
  },
  {
   "cell_type": "code",
   "execution_count": 7,
   "metadata": {},
   "outputs": [
    {
     "name": "stdout",
     "output_type": "stream",
     "text": [
      "Enter any word/name  : madam\n",
      "madam is Palindrom\n"
     ]
    }
   ],
   "source": [
    "def palindrom_function(name):\n",
    "    if name == name[::-1]:\n",
    "        print(\"{} is Palindrom\".format(name))\n",
    "    else:\n",
    "        print(\"{} is not Palindrom\".format(name))\n",
    "name = input(\"Enter any word/name  : \")\n",
    "palindrom_function(name.lower())"
   ]
  },
  {
   "cell_type": "markdown",
   "metadata": {},
   "source": [
    "# Question no 5"
   ]
  },
  {
   "cell_type": "code",
   "execution_count": 23,
   "metadata": {},
   "outputs": [
    {
     "name": "stdout",
     "output_type": "stream",
     "text": [
      "Enter a number: 23\n",
      "23 is a prime number\n"
     ]
    }
   ],
   "source": [
    "num = int(input(\"Enter a number: \"))  \n",
    "  \n",
    "if num > 1:  \n",
    "    for i in range(2,num):  \n",
    "        if (num % i) == 0:  \n",
    "            print(\"{} is not a prime number\".format(num))\n",
    "            print(\"{} times {} is {}\".format(i, num//i, num))\n",
    "            break  \n",
    "        else:\n",
    "            print(\"{} is a prime number\".format(num))\n",
    "            break\n",
    "        \n",
    "else:\n",
    "    print(\"{} is not a prime number\".format(num))"
   ]
  },
  {
   "cell_type": "markdown",
   "metadata": {},
   "source": [
    "# Question no 6"
   ]
  },
  {
   "cell_type": "code",
   "execution_count": 17,
   "metadata": {},
   "outputs": [
    {
     "name": "stdout",
     "output_type": "stream",
     "text": [
      "The Person is Bought:  Egg Yogurt \n",
      "The Person is Bought:  Egg Yogurt Milk \n",
      "The Person is Bought:  Egg Yogurt Tomato Onion Butter \n"
     ]
    }
   ],
   "source": [
    "def shoppingItems(*items):\n",
    "    newItems = \" \"\n",
    "    for item in items:\n",
    "        newItems += item +\" \"\n",
    "    print(\"The Person is Bought: {}\".format(newItems))\n",
    "\n",
    "shoppingItems(\"Egg\",\"Yogurt\")\n",
    "shoppingItems(\"Egg\",\"Yogurt\",\"Milk\")\n",
    "shoppingItems(\"Egg\",\"Yogurt\",\"Tomato\",\"Onion\",\"Butter\")"
   ]
  },
  {
   "cell_type": "code",
   "execution_count": null,
   "metadata": {},
   "outputs": [],
   "source": []
  }
 ],
 "metadata": {
  "kernelspec": {
   "display_name": "Python 3",
   "language": "python",
   "name": "python3"
  },
  "language_info": {
   "codemirror_mode": {
    "name": "ipython",
    "version": 3
   },
   "file_extension": ".py",
   "mimetype": "text/x-python",
   "name": "python",
   "nbconvert_exporter": "python",
   "pygments_lexer": "ipython3",
   "version": "3.7.3"
  }
 },
 "nbformat": 4,
 "nbformat_minor": 2
}
