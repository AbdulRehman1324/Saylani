{
 "cells": [
  {
   "cell_type": "markdown",
   "metadata": {},
   "source": [
    "# Question no 1"
   ]
  },
  {
   "cell_type": "code",
   "execution_count": 1,
   "metadata": {},
   "outputs": [
    {
     "name": "stdout",
     "output_type": "stream",
     "text": [
      "Enter first value : 4\n",
      "Enter second value : 6\n",
      "Choose Operation\n",
      "For Addition +\n",
      "For Subtraction -\n",
      "For Multiplication *\n",
      "For Division //\n",
      "Division of 4 and 6 is 0.6666666666666666\n"
     ]
    }
   ],
   "source": [
    "val1 = int(input(\"Enter first value : \"))\n",
    "val2 = int(input(\"Enter second value : \"))\n",
    "operator = input(\"Choose Operation\\nFor Addition +\\nFor Subtraction -\\nFor Multiplication *\\nFor Division /\")\n",
    "\n",
    "    \n",
    "if(operator == \"+\"):\n",
    "    print(\"Addition of {} and {} is {}\".format(val1,val2,(val1+val2)))\n",
    "elif(operator == \"-\"):\n",
    "    print(\"Subtraction of {} and {} is {}\".format(val1,val2,(val1-val2)))\n",
    "elif(operator == \"*\"):\n",
    "    print(\"Multiplication of {} and {} is {}\".format(val1,val2,(val1*val2)))\n",
    "elif(operator == \"/\"):\n",
    "    print(\"Division of {} and {} is {}\".format(val1,val2,(val1/val2)))\n",
    "else:\n",
    "    print(\"Wrong Choice.\\nPlease choose the correct operator.\")"
   ]
  },
  {
   "cell_type": "markdown",
   "metadata": {},
   "source": [
    "# Question no 2"
   ]
  },
  {
   "cell_type": "code",
   "execution_count": 3,
   "metadata": {},
   "outputs": [
    {
     "name": "stdout",
     "output_type": "stream",
     "text": [
      "1\n",
      "2\n",
      "4\n",
      "5\n"
     ]
    }
   ],
   "source": [
    "list1 = [1,2,'A','B',True,4,5, 9.4, 6.7]\n",
    "\n",
    "for i in range(len(list1)):\n",
    "    if(type(list1[i]) == int):\n",
    "        print(list1[i])"
   ]
  },
  {
   "cell_type": "markdown",
   "metadata": {},
   "source": [
    "# Question no 3"
   ]
  },
  {
   "cell_type": "code",
   "execution_count": 6,
   "metadata": {},
   "outputs": [
    {
     "name": "stdout",
     "output_type": "stream",
     "text": [
      "Before Updation: {0: 10, 1: 20, 3: 60}\n",
      "After Update: {0: 10, 1: 20, 3: 60, 2: 30}\n"
     ]
    }
   ],
   "source": [
    "dict = {0:10, 1:20, 3:60}  #dictionary not working on indexing \n",
    "print(\"Before Updation: {}\".format(dict))\n",
    "dict.update({2:30})\n",
    "print(\"After Update: {}\".format(dict))"
   ]
  },
  {
   "cell_type": "markdown",
   "metadata": {},
   "source": [
    "# Question no 4"
   ]
  },
  {
   "cell_type": "code",
   "execution_count": 9,
   "metadata": {},
   "outputs": [
    {
     "name": "stdout",
     "output_type": "stream",
     "text": [
      "Sum of total numbers in list is : 100\n"
     ]
    }
   ],
   "source": [
    "dict2 = {0:10, 1:20, 3:30, 4:40}\n",
    "sum = 0\n",
    "for val in dict2:\n",
    "    sum = sum + dict2[val]\n",
    "print(\"Sum of total numbers in list is : {}\".format(sum))"
   ]
  },
  {
   "cell_type": "markdown",
   "metadata": {},
   "source": [
    "# Question no 5"
   ]
  },
  {
   "cell_type": "code",
   "execution_count": 11,
   "metadata": {},
   "outputs": [
    {
     "name": "stdout",
     "output_type": "stream",
     "text": [
      "[1, 2, 4]\n"
     ]
    }
   ],
   "source": [
    "list1 = [1,12,2,1,2,2,1,4,5,4]\n",
    "\n",
    "def Repeated_values(x): \n",
    "    size = len(x) #save lenght of the list\n",
    "    repeated = []   #empty list of traversing and append unique values\n",
    "    for i in range(size): \n",
    "        k = i + 1\n",
    "        for j in range(k, size): \n",
    "            if x[i] == x[j] and x[i] not in repeated: \n",
    "                repeated.append(x[i]) #append duplicate values\n",
    "    return repeated \n",
    "\n",
    "print (Repeated_values(list1))"
   ]
  },
  {
   "cell_type": "markdown",
   "metadata": {},
   "source": [
    "# Question no 6"
   ]
  },
  {
   "cell_type": "code",
   "execution_count": 13,
   "metadata": {},
   "outputs": [
    {
     "name": "stdout",
     "output_type": "stream",
     "text": [
      "Before Operation  {0: 10, 1: 20, 3: 30, 4: 40}\n",
      "Enter Key0\n",
      "Enter Value11\n",
      "This key already exist operation fail\n",
      "After Operation  {0: 10, 1: 20, 3: 30, 4: 40}\n"
     ]
    }
   ],
   "source": [
    "flag = False\n",
    "print(\"Before Operation \",dict2)   #we initialize dict2 already\n",
    "\n",
    "key = int(input(\"Enter Key\"))\n",
    "value = int(input(\"Enter Value\"))\n",
    "for key_val in dict2:   #(key_value represent the value of key from the dict2)\n",
    "    if(key_val == key):  #(compare input key from the given key)\n",
    "        print(\"This key already exist operation fail\")\n",
    "        flag = True\n",
    "        break\n",
    "\n",
    "if(flag == False):\n",
    "    dict2.update({key,value})\n",
    "\n",
    "\n",
    "print(\"After Operation \",dict2)"
   ]
  },
  {
   "cell_type": "code",
   "execution_count": null,
   "metadata": {},
   "outputs": [],
   "source": []
  }
 ],
 "metadata": {
  "kernelspec": {
   "display_name": "Python 3",
   "language": "python",
   "name": "python3"
  },
  "language_info": {
   "codemirror_mode": {
    "name": "ipython",
    "version": 3
   },
   "file_extension": ".py",
   "mimetype": "text/x-python",
   "name": "python",
   "nbconvert_exporter": "python",
   "pygments_lexer": "ipython3",
   "version": "3.7.3"
  }
 },
 "nbformat": 4,
 "nbformat_minor": 2
}
